{
 "cells": [
  {
   "cell_type": "code",
   "execution_count": null,
   "id": "6a20c2f1",
   "metadata": {},
   "outputs": [],
   "source": [
    "import pandas as pd\n",
    "import os\n",
    "import google.generativeai as genai"
   ]
  },
  {
   "cell_type": "code",
   "execution_count": 5,
   "id": "8b9d8018",
   "metadata": {},
   "outputs": [],
   "source": [
    "df = pd.read_csv(\"parsed_output.csv\")\n",
    "df = df.dropna()"
   ]
  },
  {
   "cell_type": "code",
   "execution_count": null,
   "id": "e63107d2",
   "metadata": {},
   "outputs": [],
   "source": [
    "# Configure the API key\n",
    "genai.configure(api_key=\"YOUR API KEY\")\n",
    "\n",
    "# Load a Gemini model (text-only)\n",
    "model = genai.GenerativeModel(\"gemini-2.5-flash\")\n",
    "\n",
    "def prompt_gemini(item, n):\n",
    "# Send a prompt\n",
    "    prompt = f\"\"\"\n",
    "    Provide me the top {n} links for affordable {item}.\n",
    "    Return the output as a single bracketed Python-style list, where each element is formatted as:\n",
    "    [\"WebsiteName\", \"URL\"]\n",
    "\n",
    "    Rules:\n",
    "    - Use only one list — not multiple lines.\n",
    "    - Separate entries with commas, not newlines.\n",
    "    - Enclose the entire result in square brackets.\n",
    "    - WebsiteName should be concise (e.g., \"Pololu\", \"Adafruit\").\n",
    "    - URL must be the main home page (include https://).\n",
    "    - No explanations, no extra text, just the list.\n",
    "    \"\"\"\n",
    "\n",
    "    response = model.generate_content(prompt)\n",
    "\n",
    "    return response"
   ]
  },
  {
   "cell_type": "code",
   "execution_count": 59,
   "id": "12f93514",
   "metadata": {},
   "outputs": [
    {
     "data": {
      "text/html": [
       "<div>\n",
       "<style scoped>\n",
       "    .dataframe tbody tr th:only-of-type {\n",
       "        vertical-align: middle;\n",
       "    }\n",
       "\n",
       "    .dataframe tbody tr th {\n",
       "        vertical-align: top;\n",
       "    }\n",
       "\n",
       "    .dataframe thead th {\n",
       "        text-align: right;\n",
       "    }\n",
       "</style>\n",
       "<table border=\"1\" class=\"dataframe\">\n",
       "  <thead>\n",
       "    <tr style=\"text-align: right;\">\n",
       "      <th></th>\n",
       "      <th>Company</th>\n",
       "      <th>Link</th>\n",
       "    </tr>\n",
       "  </thead>\n",
       "  <tbody>\n",
       "    <tr>\n",
       "      <th>0</th>\n",
       "      <td>AliExpress</td>\n",
       "      <td>https://www.aliexpress.com</td>\n",
       "    </tr>\n",
       "    <tr>\n",
       "      <th>1</th>\n",
       "      <td>Pololu</td>\n",
       "      <td>https://www.pololu.com</td>\n",
       "    </tr>\n",
       "    <tr>\n",
       "      <th>2</th>\n",
       "      <td>Banggood</td>\n",
       "      <td>https://www.banggood.com</td>\n",
       "    </tr>\n",
       "    <tr>\n",
       "      <th>3</th>\n",
       "      <td>StepperOnline</td>\n",
       "      <td>https://www.omc-stepperonline.com</td>\n",
       "    </tr>\n",
       "    <tr>\n",
       "      <th>4</th>\n",
       "      <td>Amazon</td>\n",
       "      <td>https://www.amazon.com</td>\n",
       "    </tr>\n",
       "  </tbody>\n",
       "</table>\n",
       "</div>"
      ],
      "text/plain": [
       "         Company                               Link\n",
       "0     AliExpress         https://www.aliexpress.com\n",
       "1         Pololu             https://www.pololu.com\n",
       "2       Banggood           https://www.banggood.com\n",
       "3  StepperOnline  https://www.omc-stepperonline.com\n",
       "4         Amazon             https://www.amazon.com"
      ]
     },
     "metadata": {},
     "output_type": "display_data"
    }
   ],
   "source": [
    "import json, ast, pandas as pd\n",
    "\n",
    "top_n = 5\n",
    "\n",
    "for index, row in df.iterrows():\n",
    "    response = prompt_gemini(row[\"name\"], top_n)\n",
    "\n",
    "    raw_text = response.text.strip()\n",
    "\n",
    "    # Convert string → Python list\n",
    "    try:\n",
    "        data = json.loads(raw_text)\n",
    "    except json.JSONDecodeError:\n",
    "        data = ast.literal_eval(raw_text)\n",
    "\n",
    "    # Build DataFrame from parsed list\n",
    "    df_top_choices = pd.DataFrame(data, columns=[\"Company\", \"Link\"])\n",
    "\n",
    "    display(df_top_choices)\n",
    "    break\n"
   ]
  }
 ],
 "metadata": {
  "kernelspec": {
   "display_name": "calhacks-2025",
   "language": "python",
   "name": "python3"
  },
  "language_info": {
   "codemirror_mode": {
    "name": "ipython",
    "version": 3
   },
   "file_extension": ".py",
   "mimetype": "text/x-python",
   "name": "python",
   "nbconvert_exporter": "python",
   "pygments_lexer": "ipython3",
   "version": "3.9.13"
  }
 },
 "nbformat": 4,
 "nbformat_minor": 5
}
