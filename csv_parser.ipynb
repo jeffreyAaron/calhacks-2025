{
 "cells": [
  {
   "cell_type": "code",
   "execution_count": 38,
   "id": "30d5a78f",
   "metadata": {},
   "outputs": [
    {
     "name": "stdout",
     "output_type": "stream",
     "text": [
      "✅ Parsed output saved to parsed_output.csv\n"
     ]
    }
   ],
   "source": [
    "import pandas as pd\n",
    "import subprocess\n",
    "import json\n",
    "\n",
    "MODEL = \"llama3.2:1b\"\n",
    "\n",
    "def query_ollama(prompt, model=MODEL):\n",
    "    \"\"\"Send a prompt to Ollama and return its raw output.\"\"\"\n",
    "    result = subprocess.run(\n",
    "        [\"ollama\", \"run\", model],\n",
    "        input=prompt.encode(\"utf-8\"),\n",
    "        stdout=subprocess.PIPE,\n",
    "        stderr=subprocess.PIPE,\n",
    "    )\n",
    "    return result.stdout.decode(\"utf-8\").strip()\n",
    "\n",
    "def parse_row_with_llm(row: pd.Series):\n",
    "    \"\"\"Use Ollama to extract name and quantity from a DataFrame row.\"\"\"\n",
    "    # Convert row (Series) to dict for clarity\n",
    "    row_dict = row.to_dict()\n",
    "\n",
    "    prompt = f\"\"\"\n",
    "You are a data extraction model. Interpret the following dictionary representing one row of a CSV file:\n",
    "\n",
    "{json.dumps(row_dict)}\n",
    "\n",
    "Your task:\n",
    "- Identify which field in this row refers to the hardware part or item name.\n",
    "- Identify which field refers to the numeric quantity.\n",
    "\n",
    "Return a **single JSON object only**, with exactly these two keys:\n",
    "  {{\n",
    "    \"name\": \"<part or item name, string>\",\n",
    "    \"quantity\": <integer or float quantity, set as integer in output>\n",
    "  }}\n",
    "\n",
    "Rules:\n",
    "- Output only valid JSON (no markdown, no explanations, no code).\n",
    "- If a field is missing, output `null` for that key.\n",
    "\"\"\"\n",
    "    raw = query_ollama(prompt)\n",
    "    try:\n",
    "        parsed = json.loads(raw)\n",
    "    except json.JSONDecodeError:\n",
    "        parsed = {\"name\": None, \"quantity\": None}\n",
    "    return pd.Series(parsed)\n",
    "\n",
    "def process_csv(input_csv, output_csv=\"parsed_output.csv\"):\n",
    "    # Load CSV as DataFrame\n",
    "    df = pd.read_csv(input_csv)\n",
    "    results = []\n",
    "\n",
    "    for _, row in df.iterrows():\n",
    "        parsed = parse_row_with_llm(row)\n",
    "        results.append(parsed)\n",
    "\n",
    "    # Combine parsed results into DataFrame\n",
    "    df_parsed = pd.DataFrame(results, columns=[\"name\", \"quantity\"])\n",
    "    df_parsed.to_csv(output_csv, index=False)\n",
    "    print(f\"✅ Parsed output saved to {output_csv}\")\n",
    "\n",
    "    return df_parsed\n",
    "\n",
    "if __name__ == \"__main__\":\n",
    "    process_csv(\"test_parts.csv\")\n"
   ]
  },
  {
   "cell_type": "code",
   "execution_count": 37,
   "id": "f1cbb170",
   "metadata": {},
   "outputs": [
    {
     "name": "stdout",
     "output_type": "stream",
     "text": [
      "✅ Generated 'test_parts.csv' with columns: ['item', 'number_of_units']\n"
     ]
    }
   ],
   "source": [
    "import csv\n",
    "import random\n",
    "\n",
    "# possible header variations\n",
    "possible_headers = [\n",
    "    [\"part_name\", \"qty\"],\n",
    "    [\"item\", \"number_of_units\"],\n",
    "    [\"hardware\", \"count\"],\n",
    "    [\"component\", \"quantity\"]\n",
    "]\n",
    "headers = random.choice(possible_headers)\n",
    "\n",
    "# sample data pools\n",
    "parts = [\n",
    "    \"Raspberry Pi 4\", \"Arduino Uno\", \"Breadboard\", \"Jumper Wires\",\n",
    "    \"USB-C Cable\", \"12V Power Supply\", \"OLED Display\", \"Servo Motor\",\n",
    "    \"DC Fan\", \"ESP32 Module\", \"LED Strip\", \"Heat Sink\", \"SD Card Reader\",\n",
    "    \"Stepper Motor\", \"Relay Module\"\n",
    "]\n",
    "\n",
    "# generate 1 random rows\n",
    "rows = []\n",
    "for _ in range(10):\n",
    "    part = random.choice(parts)\n",
    "    qty = random.randint(1, 50)\n",
    "    rows.append([part, qty])\n",
    "\n",
    "# write CSV\n",
    "with open(\"test_parts.csv\", \"w\", newline=\"\", encoding=\"utf-8\") as f:\n",
    "    writer = csv.writer(f)\n",
    "    writer.writerow(headers)\n",
    "    writer.writerows(rows)\n",
    "\n",
    "print(f\"✅ Generated 'test_parts.csv' with columns: {headers}\")"
   ]
  },
  {
   "cell_type": "code",
   "execution_count": null,
   "id": "b6cad724",
   "metadata": {},
   "outputs": [],
   "source": []
  }
 ],
 "metadata": {
  "kernelspec": {
   "display_name": "calhacks-2025",
   "language": "python",
   "name": "python3"
  },
  "language_info": {
   "codemirror_mode": {
    "name": "ipython",
    "version": 3
   },
   "file_extension": ".py",
   "mimetype": "text/x-python",
   "name": "python",
   "nbconvert_exporter": "python",
   "pygments_lexer": "ipython3",
   "version": "3.9.13"
  }
 },
 "nbformat": 4,
 "nbformat_minor": 5
}
